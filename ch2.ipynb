{
 "cells": [
  {
   "cell_type": "markdown",
   "metadata": {},
   "source": [
    "# 第2章: UNIXコマンド"
   ]
  },
  {
   "cell_type": "markdown",
   "metadata": {},
   "source": [
    "## 10"
   ]
  },
  {
   "cell_type": "code",
   "execution_count": null,
   "metadata": {},
   "outputs": [],
   "source": [
    "with open('data/popular-names.txt') as f:\n",
    "    print(len(list(f)))"
   ]
  },
  {
   "cell_type": "markdown",
   "metadata": {},
   "source": [
    "## 11"
   ]
  },
  {
   "cell_type": "code",
   "execution_count": null,
   "metadata": {},
   "outputs": [],
   "source": [
    "with open('data/popular-names.txt') as f:\n",
    "    for i, line in enumerate(f):\n",
    "        line = line.replace('\\t', ' ')\n",
    "        line = line.strip()\n",
    "        if i < 5:\n",
    "            print(line)"
   ]
  },
  {
   "cell_type": "markdown",
   "metadata": {},
   "source": [
    "## 12"
   ]
  },
  {
   "cell_type": "code",
   "execution_count": null,
   "metadata": {},
   "outputs": [],
   "source": [
    "with open('data/popular-names.txt') as f, open('output/col1.txt', 'w') as g, open('output/col2.txt', 'w') as h:\n",
    "    for line in f:\n",
    "        col0, col1, _, _ = line.split('\\t')\n",
    "        print(col0, file=g)\n",
    "        print(col1, file=h)\n",
    "            "
   ]
  },
  {
   "cell_type": "markdown",
   "metadata": {},
   "source": [
    "## 13"
   ]
  },
  {
   "cell_type": "code",
   "execution_count": null,
   "metadata": {},
   "outputs": [],
   "source": [
    "with open('output/col1.txt') as f, open('output/col2.txt') as g, open('output/13.txt', 'w') as h:\n",
    "    for line1, line2 in zip(f, g):\n",
    "        line1 = line1.strip()\n",
    "        line2 = line2.strip()\n",
    "        print(line1 + '\\t' + line2, file=h)"
   ]
  },
  {
   "cell_type": "markdown",
   "metadata": {},
   "source": [
    "## 14"
   ]
  },
  {
   "cell_type": "code",
   "execution_count": 5,
   "metadata": {},
   "outputs": [
    {
     "name": "stdin",
     "output_type": "stream",
     "text": [
      " 5\n"
     ]
    },
    {
     "name": "stdout",
     "output_type": "stream",
     "text": [
      "Mary\tF\t7065\t1880\n",
      "Anna\tF\t2604\t1880\n",
      "Emma\tF\t2003\t1880\n",
      "Elizabeth\tF\t1939\t1880\n",
      "Minnie\tF\t1746\t1880\n"
     ]
    }
   ],
   "source": [
    "n = int(input())\n",
    "with open('data/popular-names.txt') as f:\n",
    "    for i, line in zip(range(n), f):\n",
    "        print(line, end='')"
   ]
  },
  {
   "cell_type": "markdown",
   "metadata": {},
   "source": [
    "## 15"
   ]
  },
  {
   "cell_type": "code",
   "execution_count": 6,
   "metadata": {},
   "outputs": [
    {
     "name": "stdin",
     "output_type": "stream",
     "text": [
      " 5\n"
     ]
    },
    {
     "name": "stdout",
     "output_type": "stream",
     "text": [
      "Benjamin\tM\t13381\t2018\n",
      "Elijah\tM\t12886\t2018\n",
      "Lucas\tM\t12585\t2018\n",
      "Mason\tM\t12435\t2018\n",
      "Logan\tM\t12352\t2018\n"
     ]
    }
   ],
   "source": [
    "n = int(input())\n",
    "with open('data/popular-names.txt') as f:\n",
    "    for line in f.readlines()[-n:]:\n",
    "        print(line.strip())"
   ]
  },
  {
   "cell_type": "markdown",
   "metadata": {},
   "source": [
    "## 16"
   ]
  },
  {
   "cell_type": "code",
   "execution_count": 7,
   "metadata": {},
   "outputs": [
    {
     "name": "stdin",
     "output_type": "stream",
     "text": [
      " 10\n"
     ]
    }
   ],
   "source": [
    "from math import ceil\n",
    "\n",
    "n = int(input())\n",
    "with open('data/popular-names.txt') as f:\n",
    "    lines = len(list(f))\n",
    "    \n",
    "units = ceil(lines/n)\n",
    "\n",
    "for i, first_idx in enumerate(range(0,lines,units)):\n",
    "    with open('data/popular-names.txt') as f, open('output/unit_{:02d}'.format(i), 'w') as g:\n",
    "        data = f.readlines()\n",
    "        for line in data[first_idx:first_idx+units]:\n",
    "            print(line, end='', file=g)"
   ]
  },
  {
   "cell_type": "markdown",
   "metadata": {},
   "source": [
    "## 17"
   ]
  },
  {
   "cell_type": "code",
   "execution_count": 8,
   "metadata": {},
   "outputs": [
    {
     "name": "stdout",
     "output_type": "stream",
     "text": [
      "{'Joan', 'Frank', 'Mia', 'Carol', 'Oliver', 'Charlotte', 'Minnie', 'Daniel', 'Brian', 'Robert', 'Ethan', 'Karen', 'Austin', 'Laura', 'Matthew', 'Debra', 'Sophia', 'Olivia', 'David', 'Virginia', 'Alexander', 'Nicole', 'Sarah', 'Justin', 'Charles', 'Noah', 'Cynthia', 'Emma', 'Ava', 'Logan', 'Jessica', 'Liam', 'Julie', 'Andrew', 'William', 'Ida', 'Alexis', 'Michael', 'Joshua', 'Elijah', 'Sandra', 'Richard', 'Chloe', 'Jennifer', 'Clara', 'Amanda', 'Mark', 'Lauren', 'Donna', 'Scott', 'Donald', 'Bertha', 'Jason', 'Kathleen', 'Thomas', 'Jeffrey', 'Brandon', 'Edward', 'Anna', 'Heather', 'Emily', 'Harper', 'Elizabeth', 'Ashley', 'Megan', 'Amy', 'Hannah', 'Aiden', 'Taylor', 'Ruth', 'Angela', 'Deborah', 'Abigail', 'Tammy', 'Jacob', 'Anthony', 'Joseph', 'Doris', 'Samantha', 'John', 'Brittany', 'George', 'Nicholas', 'Annie', 'Lisa', 'Alice', 'Sharon', 'Henry', 'Ronald', 'Larry', 'Frances', 'Rachel', 'Florence', 'Tyler', 'Lucas', 'Evelyn', 'Crystal', 'Jayden', 'Lillian', 'Nancy', 'Margaret', 'Kimberly', 'Stephanie', 'Walter', 'Christopher', 'Carolyn', 'Ethel', 'Melissa', 'Betty', 'Linda', 'Bessie', 'Mildred', 'Gary', 'Dorothy', 'Harry', 'Tracy', 'Mason', 'Lori', 'Benjamin', 'Patricia', 'Amelia', 'Michelle', 'Shirley', 'Barbara', 'Marie', 'Kelly', 'Steven', 'Helen', 'James', 'Isabella', 'Judith', 'Rebecca', 'Mary', 'Susan', 'Madison', 'Pamela'}\n"
     ]
    }
   ],
   "source": [
    "ans = set()\n",
    "with open('data/popular-names.txt') as f:\n",
    "    for line in f:\n",
    "        col0, *_ = line.split('\\t')\n",
    "        ans.add(col0)\n",
    "print(ans)"
   ]
  },
  {
   "cell_type": "markdown",
   "metadata": {},
   "source": [
    "## 18"
   ]
  },
  {
   "cell_type": "code",
   "execution_count": 9,
   "metadata": {},
   "outputs": [
    {
     "name": "stdout",
     "output_type": "stream",
     "text": [
      "Linda\tF\t99689\t1947\n",
      "Linda\tF\t96211\t1948\n",
      "James\tM\t94757\t1947\n",
      "Michael\tM\t92704\t1957\n",
      "Robert\tM\t91640\t1947\n"
     ]
    }
   ],
   "source": [
    "with open('data/popular-names.txt') as f:\n",
    "    data = f.readlines()\n",
    "data.sort(key=lambda x:float(x.split('\\t')[2]), reverse=True)\n",
    "for i, line in enumerate(data):\n",
    "    if i<5:\n",
    "        print(line, end='')"
   ]
  },
  {
   "cell_type": "markdown",
   "metadata": {},
   "source": [
    "## 19"
   ]
  },
  {
   "cell_type": "code",
   "execution_count": 10,
   "metadata": {},
   "outputs": [
    {
     "name": "stdout",
     "output_type": "stream",
     "text": [
      "Counter({'James': 118, 'William': 111, 'John': 108, 'Robert': 108, 'Mary': 92, 'Charles': 75, 'Michael': 74, 'Elizabeth': 73, 'Joseph': 70, 'Margaret': 60, 'George': 58, 'Thomas': 58, 'David': 57, 'Richard': 51, 'Helen': 45, 'Frank': 43, 'Christopher': 43, 'Anna': 41, 'Edward': 40, 'Ruth': 39, 'Patricia': 38, 'Matthew': 37, 'Dorothy': 36, 'Emma': 35, 'Barbara': 32, 'Daniel': 31, 'Joshua': 31, 'Sarah': 26, 'Linda': 26, 'Jennifer': 26, 'Emily': 26, 'Jessica': 25, 'Jacob': 25, 'Mildred': 24, 'Betty': 24, 'Susan': 24, 'Henry': 23, 'Ashley': 23, 'Nancy': 22, 'Andrew': 21, 'Florence': 20, 'Marie': 20, 'Donald': 20, 'Amanda': 20, 'Samantha': 19, 'Karen': 18, 'Lisa': 18, 'Melissa': 18, 'Madison': 18, 'Olivia': 18, 'Stephanie': 17, 'Abigail': 17, 'Ethel': 16, 'Sandra': 16, 'Mark': 16, 'Frances': 15, 'Carol': 15, 'Angela': 15, 'Michelle': 15, 'Heather': 15, 'Ethan': 15, 'Isabella': 15, 'Shirley': 14, 'Kimberly': 14, 'Amy': 14, 'Ava': 14, 'Virginia': 13, 'Deborah': 13, 'Brian': 13, 'Jason': 13, 'Nicole': 13, 'Hannah': 13, 'Sophia': 13, 'Minnie': 12, 'Bertha': 12, 'Donna': 12, 'Cynthia': 11, 'Alice': 10, 'Doris': 10, 'Ronald': 10, 'Brittany': 10, 'Nicholas': 10, 'Mia': 10, 'Noah': 10, 'Joan': 9, 'Debra': 9, 'Tyler': 9, 'Ida': 8, 'Clara': 8, 'Judith': 8, 'Taylor': 8, 'Alexis': 8, 'Alexander': 8, 'Mason': 8, 'Harry': 7, 'Sharon': 7, 'Steven': 7, 'Tammy': 7, 'Brandon': 7, 'Liam': 7, 'Anthony': 6, 'Annie': 5, 'Gary': 5, 'Jeffrey': 5, 'Jayden': 5, 'Charlotte': 5, 'Lillian': 4, 'Kathleen': 4, 'Justin': 4, 'Austin': 4, 'Chloe': 4, 'Benjamin': 4, 'Evelyn': 3, 'Megan': 3, 'Aiden': 3, 'Harper': 3, 'Elijah': 3, 'Bessie': 2, 'Larry': 2, 'Rebecca': 2, 'Lauren': 2, 'Amelia': 2, 'Logan': 2, 'Oliver': 2, 'Walter': 1, 'Carolyn': 1, 'Pamela': 1, 'Lori': 1, 'Laura': 1, 'Tracy': 1, 'Julie': 1, 'Scott': 1, 'Kelly': 1, 'Crystal': 1, 'Rachel': 1, 'Lucas': 1})\n"
     ]
    }
   ],
   "source": [
    "from collections import Counter\n",
    "\n",
    "names = []\n",
    "with open('data/popular-names.txt') as f:\n",
    "    for line in f:\n",
    "        name, *_ = line.split('\\t')\n",
    "        names.append(name)\n",
    "        \n",
    "name_dict = Counter(names)\n",
    "print(name_dict)"
   ]
  }
 ],
 "metadata": {
  "kernelspec": {
   "display_name": "Python 3",
   "language": "python",
   "name": "python3"
  },
  "language_info": {
   "codemirror_mode": {
    "name": "ipython",
    "version": 3
   },
   "file_extension": ".py",
   "mimetype": "text/x-python",
   "name": "python",
   "nbconvert_exporter": "python",
   "pygments_lexer": "ipython3",
   "version": "3.8.3"
  }
 },
 "nbformat": 4,
 "nbformat_minor": 4
}
