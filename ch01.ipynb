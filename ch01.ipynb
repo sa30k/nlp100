{
 "cells": [
  {
   "cell_type": "markdown",
   "metadata": {},
   "source": [
    "# 第1章: 準備運動"
   ]
  },
  {
   "cell_type": "markdown",
   "metadata": {},
   "source": [
    "## 00"
   ]
  },
  {
   "cell_type": "code",
   "execution_count": 3,
   "metadata": {},
   "outputs": [
    {
     "name": "stdout",
     "output_type": "stream",
     "text": [
      "desserts\n"
     ]
    }
   ],
   "source": [
    "text = 'stressed'\n",
    "print(text[::-1])"
   ]
  },
  {
   "cell_type": "markdown",
   "metadata": {},
   "source": [
    "## 01"
   ]
  },
  {
   "cell_type": "code",
   "execution_count": 5,
   "metadata": {},
   "outputs": [
    {
     "name": "stdout",
     "output_type": "stream",
     "text": [
      "タクシー\n"
     ]
    }
   ],
   "source": [
    "text = 'パタトクカシーー'\n",
    "print(text[1::2])"
   ]
  },
  {
   "cell_type": "markdown",
   "metadata": {},
   "source": [
    "## 02"
   ]
  },
  {
   "cell_type": "code",
   "execution_count": 7,
   "metadata": {},
   "outputs": [
    {
     "name": "stdout",
     "output_type": "stream",
     "text": [
      "パタトクカシーー\n"
     ]
    }
   ],
   "source": [
    "text1 = 'パトカー'\n",
    "text2 = 'タクシー'\n",
    "print(''.join(c1+c2 for c1, c2 in zip(text1, text2)))"
   ]
  },
  {
   "cell_type": "markdown",
   "metadata": {},
   "source": [
    "## 03"
   ]
  },
  {
   "cell_type": "code",
   "execution_count": 13,
   "metadata": {},
   "outputs": [
    {
     "name": "stdout",
     "output_type": "stream",
     "text": [
      "[3, 1, 4, 1, 5, 9, 2, 6, 5, 3, 5, 8, 9, 7, 9]\n"
     ]
    }
   ],
   "source": [
    "text = 'Now I need a drink, alcoholic of course, after the heavy lectures involving quantum mechanics.'\n",
    "text = text.replace(',', '').replace('.', '')\n",
    "ans = [len(i) for i in text.split(' ')]\n",
    "print(ans)"
   ]
  },
  {
   "cell_type": "markdown",
   "metadata": {},
   "source": [
    "## 04"
   ]
  },
  {
   "cell_type": "code",
   "execution_count": 3,
   "metadata": {},
   "outputs": [
    {
     "name": "stdout",
     "output_type": "stream",
     "text": [
      "{1: 'H', 2: 'He', 3: 'Li', 4: 'Be', 5: 'B', 6: 'C', 7: 'N', 8: 'O', 9: 'F', 10: 'Ne', 11: 'Na', 12: 'Mi', 13: 'Al', 14: 'Si', 15: 'P', 16: 'S', 17: 'Cl', 18: 'Ar', 19: 'K', 20: 'Ca'}\n"
     ]
    }
   ],
   "source": [
    "text = 'Hi He Lied Because Boron Could Not Oxidize Fluorine. New Nations Might Also Sign Peace Security Clause. Arthur King Can.'\n",
    "text = text.replace(',', '').replace('.', '')\n",
    "words = text.split()\n",
    "d = {}\n",
    "for i in range(len(words)):\n",
    "    if i in [0,4,5,6,7,8,14,15,18]:\n",
    "        d[i+1] = words[i][0]\n",
    "    else:\n",
    "        d[i+1] = words[i][:2]\n",
    "        \n",
    "print(d)"
   ]
  },
  {
   "cell_type": "markdown",
   "metadata": {},
   "source": [
    "## 05"
   ]
  },
  {
   "cell_type": "code",
   "execution_count": 12,
   "metadata": {},
   "outputs": [
    {
     "name": "stdout",
     "output_type": "stream",
     "text": [
      "[['I', 'am'], ['am', 'an'], ['an', 'NLPer']]\n",
      "['I ', ' a', 'am', 'm ', ' a', 'an', 'n ', ' N', 'NL', 'LP', 'Pe', 'er']\n"
     ]
    }
   ],
   "source": [
    "def n_gram(text, n):\n",
    "    return [text[i:i+n] for i in range(len(text)-n+1)]\n",
    "    \n",
    "text = 'I am an NLPer'\n",
    "print(n_gram(text.split(), 2))\n",
    "print(n_gram(text, 2))"
   ]
  },
  {
   "cell_type": "markdown",
   "metadata": {},
   "source": [
    "## 06"
   ]
  },
  {
   "cell_type": "code",
   "execution_count": 19,
   "metadata": {},
   "outputs": [
    {
     "name": "stdout",
     "output_type": "stream",
     "text": [
      "X = {'ap', 'ar', 'is', 'se', 'di', 'pa', 'ra', 'ad'}\n",
      "Y = {'ag', 'ar', 'ap', 'gr', 'pa', 'ra', 'ph'}\n",
      "X+Y = {'ap', 'ar', 'ag', 'is', 'se', 'gr', 'di', 'pa', 'ra', 'ad', 'ph'}\n",
      "X&Y = {'ap', 'ar', 'ra', 'pa'}\n",
      "X-Y = {'ad', 'is', 'di', 'se'}\n",
      "se in X: True\n",
      "se in Y: False\n"
     ]
    }
   ],
   "source": [
    "text1 = 'paraparaparadise'\n",
    "text2 = 'paragraph'\n",
    "X = set(n_gram(text1, 2))\n",
    "Y = set(n_gram(text2, 2))\n",
    "\n",
    "print(f'X = {X}')\n",
    "print(f'Y = {Y}')\n",
    "print(f'X+Y = {X|Y}')\n",
    "print(f'X&Y = {X&Y}')\n",
    "print(f'X-Y = {X-Y}')\n",
    "print(f'se in X: {\"se\" in X}')\n",
    "print(f'se in Y: {\"se\" in Y}')"
   ]
  },
  {
   "cell_type": "markdown",
   "metadata": {},
   "source": [
    "## 07"
   ]
  },
  {
   "cell_type": "code",
   "execution_count": 20,
   "metadata": {},
   "outputs": [
    {
     "name": "stdout",
     "output_type": "stream",
     "text": [
      "12時の気温は22.4\n"
     ]
    }
   ],
   "source": [
    "def f(x, y, z):\n",
    "    return '{}時の{}は{}'.format(x, y, z)\n",
    "\n",
    "print(f(x=12, y='気温', z=22.4))"
   ]
  },
  {
   "cell_type": "markdown",
   "metadata": {},
   "source": [
    "## 08"
   ]
  },
  {
   "cell_type": "code",
   "execution_count": 24,
   "metadata": {},
   "outputs": [
    {
     "name": "stdout",
     "output_type": "stream",
     "text": [
      "Tsrh rh z kvm.\n",
      "This is a pen.\n"
     ]
    }
   ],
   "source": [
    "def cipher(text):\n",
    "    ans = ''\n",
    "    for c in text:\n",
    "        if 97 <= ord(c) <= 122:\n",
    "            ans += chr(219-ord(c))\n",
    "        else:\n",
    "            ans += c\n",
    "    return ans\n",
    "    \n",
    "text = 'This is a pen.'\n",
    "print(cipher(text))\n",
    "print(cipher(cipher(text)))"
   ]
  },
  {
   "cell_type": "markdown",
   "metadata": {},
   "source": [
    "## 09"
   ]
  },
  {
   "cell_type": "code",
   "execution_count": 29,
   "metadata": {},
   "outputs": [
    {
     "name": "stdout",
     "output_type": "stream",
     "text": [
      "I cdln’uot belivee that I cuold autallcy usretdannd what I was rdaieng : the pemnahenol pewor of the hamun mind .\n"
     ]
    }
   ],
   "source": [
    "import random\n",
    "def typoglycemia(word):\n",
    "    if len(word) > 4:\n",
    "        return word[0] + ''.join(random.sample(word[1:-1], len(word)-2)) + word[-1]\n",
    "    else:\n",
    "        return word\n",
    "\n",
    "text = 'I couldn’t believe that I could actually understand what I was reading : the phenomenal power of the human mind .'\n",
    "print(' '.join([typoglycemia(w) for w in text.split()]))"
   ]
  }
 ],
 "metadata": {
  "kernelspec": {
   "display_name": "Python 3",
   "language": "python",
   "name": "python3"
  },
  "language_info": {
   "codemirror_mode": {
    "name": "ipython",
    "version": 3
   },
   "file_extension": ".py",
   "mimetype": "text/x-python",
   "name": "python",
   "nbconvert_exporter": "python",
   "pygments_lexer": "ipython3",
   "version": "3.8.3"
  }
 },
 "nbformat": 4,
 "nbformat_minor": 4
}
